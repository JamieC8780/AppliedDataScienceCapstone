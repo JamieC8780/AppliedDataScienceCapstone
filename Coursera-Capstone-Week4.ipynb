{
 "cells": [
  {
   "cell_type": "markdown",
   "metadata": {},
   "source": [
    "# Coursera Applied Data Science Capstone Project  \n",
    "# The Battle of Neighborhoods"
   ]
  },
  {
   "cell_type": "markdown",
   "metadata": {},
   "source": [
    "## Business Problem"
   ]
  },
  {
   "cell_type": "markdown",
   "metadata": {},
   "source": [
    "Celeste has just finished culinary school and graduated top of her class from Le Cordon Bleu in Paris, France. She is going back home to Toronto, Canada. Her proud parents have secured funding to invest in her dream French patisserie. Her ideal location would be in a place that has other popular restaurants around but not too many bakeries or dessert shops. "
   ]
  },
  {
   "cell_type": "markdown",
   "metadata": {},
   "source": [
    "## Data Description"
   ]
  },
  {
   "cell_type": "markdown",
   "metadata": {},
   "source": [
    "Tp find the ideal location for Celeste, we will use the Foursquare location data and postal-code list data from Wikipedia and Geospatial_Coordinates data. We willfirst scrap the postal-code list from URL: https://en.wikipedia.org/wiki/List_of_postal_codes_of_Canada:_M. The list from Wikipedia contains Canadian Postal code with the beginning of M, and the corresponding Borough and Neighborhood. Then we combine the list table with Geospatial_Coordinates data which includes each Neighborhoods'longitude and latitude. After these processes, we will explore the neighbourhoods in Toronto by using Foursquare location data by clustering the neighbourhoods in Downtown Toronto, and use Foursquare location data to build up the table which contains Downtown Toronto's Neighborhoods and venues (bank, cafe, restaurant, etc.) in each of the neighbourhoods. Then according to the data frame, we can figure out the appropriate neighborhood for Celeste to open her dream French patessirie that is close to other restautrants but not too many bakeries. "
   ]
  }
 ],
 "metadata": {
  "kernelspec": {
   "display_name": "Python",
   "language": "python",
   "name": "conda-env-python-py"
  },
  "language_info": {
   "codemirror_mode": {
    "name": "ipython",
    "version": 3
   },
   "file_extension": ".py",
   "mimetype": "text/x-python",
   "name": "python",
   "nbconvert_exporter": "python",
   "pygments_lexer": "ipython3",
   "version": "3.6.11"
  }
 },
 "nbformat": 4,
 "nbformat_minor": 4
}
